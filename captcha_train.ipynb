{
  "nbformat": 4,
  "nbformat_minor": 0,
  "metadata": {
    "colab": {
      "name": "captcha_train.ipynb",
      "provenance": [],
      "collapsed_sections": []
    },
    "kernelspec": {
      "name": "python3",
      "display_name": "Python 3"
    },
    "language_info": {
      "name": "python"
    },
    "accelerator": "GPU"
  },
  "cells": [
    {
      "cell_type": "code",
      "execution_count": 1,
      "metadata": {
        "colab": {
          "base_uri": "https://localhost:8080/"
        },
        "id": "PWkw5yx2ggDh",
        "outputId": "da1facc0-6731-46e9-ca42-cf33006999cc"
      },
      "outputs": [
        {
          "output_type": "stream",
          "name": "stdout",
          "text": [
            "Cloning into 'captcha-solver-pytorch'...\n",
            "remote: Enumerating objects: 90, done.\u001b[K\n",
            "remote: Counting objects: 100% (90/90), done.\u001b[K\n",
            "remote: Compressing objects: 100% (52/52), done.\u001b[K\n",
            "remote: Total 90 (delta 39), reused 81 (delta 30), pack-reused 0\u001b[K\n",
            "Unpacking objects: 100% (90/90), done.\n"
          ]
        }
      ],
      "source": [
        "!git clone https://github.com/HiroForYou/captcha-solver-pytorch.git --branch heroku-deploy"
      ]
    },
    {
      "cell_type": "code",
      "source": [
        "%cd /content/captcha-solver-pytorch"
      ],
      "metadata": {
        "colab": {
          "base_uri": "https://localhost:8080/"
        },
        "id": "Mh8fvXLAhqjD",
        "outputId": "16112292-7de8-4a4c-cc55-5afce563421a"
      },
      "execution_count": 2,
      "outputs": [
        {
          "output_type": "stream",
          "name": "stdout",
          "text": [
            "/content/captcha-solver-pytorch\n"
          ]
        }
      ]
    },
    {
      "cell_type": "code",
      "source": [
        "!ls"
      ],
      "metadata": {
        "colab": {
          "base_uri": "https://localhost:8080/"
        },
        "id": "cQVaj3bksq3t",
        "outputId": "e5fad43d-0f78-4da3-c3aa-de730404f8a0"
      },
      "execution_count": 3,
      "outputs": [
        {
          "output_type": "stream",
          "name": "stdout",
          "text": [
            "2cg58.png   engine.py\t     input_\tmodel.py   requirements.txt  weights\n",
            "config.py   inferenceAPI.py  input.zip\tProcfile   runtime.txt\n",
            "dataset.py  inference.py     main.py\tREADME.md  train.py\n"
          ]
        }
      ]
    },
    {
      "cell_type": "code",
      "source": [
        "!unzip input.zip"
      ],
      "metadata": {
        "id": "_jf1k6gMhXt_"
      },
      "execution_count": null,
      "outputs": []
    },
    {
      "cell_type": "code",
      "source": [
        "!python train.py"
      ],
      "metadata": {
        "colab": {
          "base_uri": "https://localhost:8080/"
        },
        "id": "uSfchSbShxSd",
        "outputId": "7bf28ce9-af5e-43d4-9a7a-2d5de48cbeaa"
      },
      "execution_count": 8,
      "outputs": [
        {
          "output_type": "stream",
          "name": "stdout",
          "text": [
            " 25% 58/234 [00:04<00:12, 13.74it/s]\n",
            "Traceback (most recent call last):\n",
            "  File \"train.py\", line 147, in <module>\n",
            "    run_training()\n",
            "  File \"train.py\", line 114, in run_training\n",
            "    train_loss = engine.train_fn(model, train_loader, optimizer)\n",
            "  File \"/content/captcha-solver-pytorch/engine.py\", line 17, in train_fn\n",
            "    fin_loss += loss.item()\n",
            "KeyboardInterrupt\n"
          ]
        }
      ]
    },
    {
      "cell_type": "code",
      "source": [
        ""
      ],
      "metadata": {
        "id": "QY4ZNOUKh_r3"
      },
      "execution_count": null,
      "outputs": []
    }
  ]
}