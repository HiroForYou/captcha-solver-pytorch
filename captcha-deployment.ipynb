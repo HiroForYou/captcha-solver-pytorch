{
 "cells": [
  {
   "cell_type": "code",
   "execution_count": 2,
   "id": "488b1532",
   "metadata": {},
   "outputs": [],
   "source": [
    "import base64\n",
    "import boto3\n",
    "import io\n",
    "import json\n",
    "from PIL import Image\n",
    "from sagemaker import get_execution_role\n",
    "from sagemaker.pytorch import PyTorchModel\n",
    "\n",
    "\n",
    "from config import IMAGE_TEST"
   ]
  },
  {
   "cell_type": "code",
   "execution_count": 55,
   "id": "5e031554",
   "metadata": {},
   "outputs": [
    {
     "name": "stdout",
     "output_type": "stream",
     "text": [
      "-------!"
     ]
    },
    {
     "name": "stderr",
     "output_type": "stream",
     "text": [
      "The endpoint attribute has been renamed in sagemaker>=2.\n",
      "See: https://sagemaker.readthedocs.io/en/stable/v2.html for details.\n"
     ]
    },
    {
     "data": {
      "text/plain": [
       "'pytorch-inference-2021-10-15-03-29-08-633'"
      ]
     },
     "execution_count": 55,
     "metadata": {},
     "output_type": "execute_result"
    }
   ],
   "source": [
    "role = get_execution_role()\n",
    "\n",
    "pytorch_model = PyTorchModel(model_data='s3://weights-captcha/model.tar.gz', role=role,\n",
    "                             entry_point='inference.py', framework_version=\"1.7.1\",\n",
    "                             py_version=\"py3\",\n",
    "                             )\n",
    "\n",
    "predictor = pytorch_model.deploy(instance_type='ml.t3.medium', initial_instance_count=1)\n",
    "endpoint = predictor.endpoint\n",
    "endpoint"
   ]
  },
  {
   "cell_type": "code",
   "execution_count": 60,
   "id": "8e6c6373",
   "metadata": {},
   "outputs": [],
   "source": [
    "image = Image.open(IMAGE_TEST).convert(\"RGB\")\n",
    "#bytesarray = bytes(image.tobytes())\n",
    "#image_data = Image.open(io.BytesIO(image.tobytes()))\n",
    "#image.show()\n",
    "\n",
    "buffered = io.BytesIO()\n",
    "image.save(buffered, format=\"JPEG\")\n",
    "img_str = base64.b64encode(buffered.getvalue())\n",
    "\n",
    "payload = {\"image\": img_str.decode()}\n",
    "\n",
    "payload = json.dumps(payload)\n",
    "\n",
    "runtime = boto3.client('sagemaker-runtime')\n",
    "\n",
    "response = runtime.invoke_endpoint(\n",
    "    EndpointName=endpoint,\n",
    "    ContentType='application/json',\n",
    "    Body=payload)\n",
    "\n",
    "result = json.loads(response['Body'].read().decode()) \n"
   ]
  },
  {
   "cell_type": "code",
   "execution_count": 61,
   "id": "2fe2a43d",
   "metadata": {},
   "outputs": [
    {
     "name": "stdout",
     "output_type": "stream",
     "text": [
      "[[21.167724609375, -4.827481746673584, -3.0279018878936768, -4.160379886627197, -5.018439769744873, -1.498039960861206, -4.156457901000977, -4.682018280029297, -2.261157751083374, -3.038466215133667, -3.278585910797119, -8.060171127319336, -0.9796529412269592, -2.676953077316284, -5.099091053009033, -3.564992666244507, -2.206869125366211, -4.332683563232422, -4.04838228225708, -2.747683525085449, -3.823640823364258, -4.809587001800537, -1.8433430194854736, -2.6118063926696777, -4.019082069396973, -4.21744441986084, -3.994037389755249, -2.758504867553711, -3.3628532886505127, -1.86456298828125, -2.692321538925171, -3.0455448627471924, -3.3005998134613037, -3.282867670059204, -2.0690176486968994, -2.7778306007385254, -3.6720173358917236, -2.216061592102051]]\n"
     ]
    }
   ],
   "source": [
    "print(result)"
   ]
  },
  {
   "cell_type": "markdown",
   "id": "ad26f93b",
   "metadata": {},
   "source": [
    "### Eliminar Endpoint"
   ]
  },
  {
   "cell_type": "code",
   "execution_count": 1,
   "id": "321a7798",
   "metadata": {},
   "outputs": [
    {
     "ename": "NameError",
     "evalue": "name 'predictor' is not defined",
     "output_type": "error",
     "traceback": [
      "\u001b[0;31m---------------------------------------------------------------------------\u001b[0m",
      "\u001b[0;31mNameError\u001b[0m                                 Traceback (most recent call last)",
      "\u001b[0;32m<ipython-input-1-9dbbcf45efe1>\u001b[0m in \u001b[0;36m<module>\u001b[0;34m\u001b[0m\n\u001b[0;32m----> 1\u001b[0;31m \u001b[0mpredictor\u001b[0m\u001b[0;34m.\u001b[0m\u001b[0mdelete_endpoint\u001b[0m\u001b[0;34m(\u001b[0m\u001b[0;34m)\u001b[0m\u001b[0;34m\u001b[0m\u001b[0;34m\u001b[0m\u001b[0m\n\u001b[0m",
      "\u001b[0;31mNameError\u001b[0m: name 'predictor' is not defined"
     ]
    }
   ],
   "source": [
    "predictor.delete_endpoint()"
   ]
  },
  {
   "cell_type": "code",
   "execution_count": null,
   "id": "fa9db8f4",
   "metadata": {},
   "outputs": [],
   "source": []
  }
 ],
 "metadata": {
  "kernelspec": {
   "display_name": "conda_pytorch_latest_p36",
   "language": "python",
   "name": "conda_pytorch_latest_p36"
  },
  "language_info": {
   "codemirror_mode": {
    "name": "ipython",
    "version": 3
   },
   "file_extension": ".py",
   "mimetype": "text/x-python",
   "name": "python",
   "nbconvert_exporter": "python",
   "pygments_lexer": "ipython3",
   "version": "3.6.13"
  }
 },
 "nbformat": 4,
 "nbformat_minor": 5
}
